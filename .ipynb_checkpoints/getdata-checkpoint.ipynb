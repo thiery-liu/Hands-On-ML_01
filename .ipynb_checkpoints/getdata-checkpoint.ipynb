{
 "cells": [
  {
   "cell_type": "code",
   "execution_count": null,
   "metadata": {},
   "outputs": [],
   "source": [
    "import os  \n",
    "import tarfile #解压用\n",
    "from six.moves import urllib\n",
    "import pandas as pd\n",
    "import matplotlib.pyplot as plt\n",
    "import numpy as np\n",
    "import hashlib\n",
    "import sklearn\n",
    "from sklearn.model_selection import train_test_split\n",
    "from pandas.tools.plotting import scatter_matrix\n",
    "import cv2\n",
    "import gdal\n",
    "from sklearn.preprocessing import Imputer"
   ]
  },
  {
   "cell_type": "code",
   "execution_count": null,
   "metadata": {},
   "outputs": [],
   "source": [
    "# 文件下载路径\n",
    "DOWNLOAD_ROOT = \"http://raw.githubusercontent.com/ageron/handson-ml/master/\"\n",
    "#存储路径\n",
    "DATA_PATH = \"datasets/housing\"\n",
    "DATA_URL = DOWNLOAD_ROOT + DATA_PATH + \"/hosing.taz\"\n",
    "\n",
    "# #数据获取函数\n",
    "# def fetch_need_data (housing_url = DATA_URL, housing_path = DATA_PATH ):\n",
    "# #若路径不存在，则创建存储路径datasets/housing\n",
    "#     if not os.path.isdir(housing_path):\n",
    "#         os.makedirs(housing_path)\n",
    "# #路径拼接函数 \n",
    "#     os.path.join（path1，path2，）\n",
    "#     tgz_path = os.path.join(housing_path, \"housong.tgz\")\n",
    "#     urllib.request.urlretrieve(housing_url, tgz_path)\n",
    "#     housing_tgz  = tarfile.open(tgz_path)\n",
    "#     housing_tgz.extractall(path = housing_path)\n",
    "#     housing_tgz.close()\n",
    "# fetch_need_data()"
   ]
  },
  {
   "cell_type": "code",
   "execution_count": null,
   "metadata": {},
   "outputs": [],
   "source": [
    "#加载数据\n",
    "def load_housing_data(housing_path = DATA_PATH):\n",
    "    csv_path = os.path.join(housing_path,\"housing.csv\")\n",
    "    return pd.read_csv(csv_path)\n",
    "housing = load_housing_data()"
   ]
  },
  {
   "cell_type": "code",
   "execution_count": null,
   "metadata": {},
   "outputs": [],
   "source": [
    "attribute_list =list(housing.keys())\n",
    "attribute_list"
   ]
  },
  {
   "cell_type": "code",
   "execution_count": null,
   "metadata": {},
   "outputs": [],
   "source": [
    "len(attribute_list)"
   ]
  },
  {
   "cell_type": "code",
   "execution_count": null,
   "metadata": {},
   "outputs": [],
   "source": [
    "attribute_list[0]"
   ]
  },
  {
   "cell_type": "code",
   "execution_count": null,
   "metadata": {},
   "outputs": [],
   "source": [
    "housing[attribute_list[0]].describe() #pandas.describe() 描述性统计"
   ]
  },
  {
   "cell_type": "code",
   "execution_count": null,
   "metadata": {},
   "outputs": [],
   "source": [
    "#查看housing数据集的前五行\n",
    "housing.head()"
   ]
  },
  {
   "cell_type": "code",
   "execution_count": null,
   "metadata": {},
   "outputs": [],
   "source": [
    "#查看housing数据集的基础信息\n",
    "housing.info()"
   ]
  },
  {
   "cell_type": "code",
   "execution_count": null,
   "metadata": {},
   "outputs": [],
   "source": [
    "#数据中ocean_proximity有多少种类\n",
    "housing[\"ocean_proximity\"].value_counts()"
   ]
  },
  {
   "cell_type": "code",
   "execution_count": null,
   "metadata": {},
   "outputs": [],
   "source": [
    "#绘制housing直方图 hist(bins=直方图柱子的个数，figsize=窗口大小)\n",
    "housing.hist(bins = 40, figsize=(20,15))\n",
    "plt.show()"
   ]
  },
  {
   "cell_type": "code",
   "execution_count": null,
   "metadata": {},
   "outputs": [],
   "source": [
    "# #随进选择测试集\n",
    "# def split_train_test(data，test_ratio)：\n",
    "# #np.random.permutation(len(data)) 将len(data)随机排序\n",
    "#     shuffled_indices = np.random.permutation(len(data))\n",
    "#     test_set_size = int(len(data) * test_radio)\n",
    "#     test_indices = shuffled_indices{:test_set_size}\n",
    "#     train_indices = shuffled_indices{test_set_size:}\n",
    "# #.iloc 基于索引选择数据集 \n",
    "#     return data.iloc{train_indices} , data.iloc{test_indices}\n",
    "# train_set，test_set = split_train_test(housing,0.2) "
   ]
  },
  {
   "cell_type": "code",
   "execution_count": null,
   "metadata": {},
   "outputs": [],
   "source": [
    "# #取实例hash值最后一个字节 小于51即放入测试集\n",
    "# def test_set_check(identifier,test_radio,hash):\n",
    "#     return hash(np.int64(identifier)).digest(){-1}< 256 * test_ratio\n",
    "\n",
    "# def split_train_test_by_id(data, test_ratio, id_column, hash = hashlib.md5):\n",
    "#     ids = data{id_column}\n",
    "#     in_test_set = ids.apply(lambda id_: test_set_check(id_, test_radio, hash))\n",
    "#     return data.loc[~in_test_set], data.loc{in_test_set}\n",
    "# #将数据集行索引zuoID\n",
    "# housing_with_id = housing.reset_index()\n",
    "# train_set, test_set = split_train_test_by_id(housing_with_id, 0.2, \"index\")"
   ]
  },
  {
   "cell_type": "code",
   "execution_count": null,
   "metadata": {},
   "outputs": [],
   "source": [
    "#将地区经纬度作为ID\n",
    "# housing_with_id{\"id\"} = housing{\"longitude\"} * 1000 + housing{\"latitude\"}\n",
    "# train_set，test_set = split_train_test_by_id(housing_with_id, 0.2, \"id\")\n"
   ]
  },
  {
   "cell_type": "code",
   "execution_count": null,
   "metadata": {},
   "outputs": [],
   "source": [
    "#sciklearn的数据集分子集函数train_test_split（数据集，比例，random_state=42） random_state=42为随机生成器种子，保证每次选的是一样的\n",
    "# train_set, test_set = train_test_split(housing, test_size = 0.2, random_state=42)\n"
   ]
  },
  {
   "cell_type": "code",
   "execution_count": null,
   "metadata": {},
   "outputs": [],
   "source": [
    "# housing.plot(kind = \"scatter\", x = \"longitude\", y = \"latitude\",alpha = 0.4)\n",
    "#              s = housing[\"population\"]/100, lable= \"population\",\n",
    "#              c =\"median_house_value\", cmap = plt.get_cmap(\"jet\"),\n",
    "#              colorbar = 'r',\n",
    "# )\n",
    "# plt.legend()"
   ]
  }
 ],
 "metadata": {
  "kernelspec": {
   "display_name": "Python 3",
   "language": "python",
   "name": "python3"
  },
  "language_info": {
   "codemirror_mode": {
    "name": "ipython",
    "version": 3
   },
   "file_extension": ".py",
   "mimetype": "text/x-python",
   "name": "python",
   "nbconvert_exporter": "python",
   "pygments_lexer": "ipython3",
   "version": "3.7.0"
  }
 },
 "nbformat": 4,
 "nbformat_minor": 1
}
