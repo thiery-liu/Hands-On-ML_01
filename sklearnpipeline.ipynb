{
 "cells": [
  {
   "cell_type": "code",
   "execution_count": 1,
   "metadata": {},
   "outputs": [],
   "source": [
    "# -*- coding: utf-8 -*- \n",
    "import os  \n",
    "import tarfile #解压用\n",
    "from six.moves import urllib\n",
    "import pandas as pd\n",
    "import matplotlib.pyplot as plt\n",
    "import numpy as np\n",
    "import hashlib\n",
    "import sklearn\n",
    "from sklearn.model_selection import train_test_split\n",
    "from pandas.tools.plotting import scatter_matrix\n",
    "import cv2\n",
    "import gdal\n",
    "from sklearn.impute import SimpleImputer\n",
    "import sklearn\n",
    "from sklearn.preprocessing import LabelEncoder\n",
    "from sklearn.preprocessing import OneHotEncoder\n",
    "import pickle"
   ]
  },
  {
   "cell_type": "code",
   "execution_count": 2,
   "metadata": {},
   "outputs": [
    {
     "data": {
      "text/plain": [
       "(16512,)"
      ]
     },
     "execution_count": 2,
     "metadata": {},
     "output_type": "execute_result"
    }
   ],
   "source": [
    "strat_train_set = pd.read_csv(\".\\datasets\\strat_train_set.csv\",index_col = 0)\n",
    "housing= strat_train_set.drop(\"median_house_value\",axis = 1) #axis = 1(列)\n",
    "housing_num = housing.drop(\"ocean_proximity\", axis = 1)\n",
    "housing_labels = strat_train_set[\"median_house_value\"].copy()\n",
    "housing_labels.shape\n",
    "\n"
   ]
  },
  {
   "cell_type": "code",
   "execution_count": 3,
   "metadata": {},
   "outputs": [],
   "source": [
    "from sklearn.base import BaseEstimator, TransformerMixin\n",
    "# 为了能放入pipeline\n",
    "\n",
    "# 列索引\n",
    "rooms_ix, bedrooms_ix, population_ix, households_ix = 3, 4, 5, 6\n",
    "\n",
    "class CombinedAttributesAdder(BaseEstimator, TransformerMixin):\n",
    "    def __init__(self, add_bedrooms_per_room = True):  # 这个变量要传\n",
    "        self.add_bedrooms_per_room = add_bedrooms_per_room # 控制是否加入bedrooms_per_room这个变量\n",
    "    def fit(self, X, y=None):\n",
    "        return self  # fit啥也不干\n",
    "    # 通过数据计算的值添加进去\n",
    "    def transform(self, X):\n",
    "        # 先加两列\n",
    "        rooms_per_household = X[:, rooms_ix] / X[:, households_ix]\n",
    "        population_per_household = X[:, population_ix] / X[:, households_ix]\n",
    "        # 判断一下是否加第三列\n",
    "        if self.add_bedrooms_per_room:\n",
    "            bedrooms_per_room = X[:, bedrooms_ix] / X[:, rooms_ix]\n",
    "            return np.c_[X, rooms_per_household, population_per_household,\n",
    "                         bedrooms_per_room]\n",
    "            # 是的话返回三列\n",
    "        else:\n",
    "            return np.c_[X, rooms_per_household, population_per_household]\n",
    "            # 否则返回两列"
   ]
  },
  {
   "cell_type": "code",
   "execution_count": 4,
   "metadata": {},
   "outputs": [],
   "source": [
    "attr_adder = CombinedAttributesAdder(add_bedrooms_per_room=False)\n",
    "housing_extra_attribs = attr_adder.transform(housing.values)"
   ]
  },
  {
   "cell_type": "code",
   "execution_count": 5,
   "metadata": {},
   "outputs": [
    {
     "data": {
      "text/plain": [
       "array([ 0.64733449, -0.75752232,  0.02758786, -0.98565964, -0.74240006,\n",
       "        1.13853483, -0.74541742, -1.77211596, -1.17438743,  0.80278786,\n",
       "        3.53453121])"
      ]
     },
     "execution_count": 5,
     "metadata": {},
     "output_type": "execute_result"
    }
   ],
   "source": [
    "#第一种补充编码\n",
    "from sklearn.pipeline import Pipeline\n",
    "from sklearn.preprocessing import StandardScaler\n",
    "from sklearn.impute import SimpleImputer\n",
    "\n",
    "#中位数填充\n",
    "#加入特征\n",
    "#将数据标准化\n",
    "num_pipeline = Pipeline([\n",
    "        ('imputer', SimpleImputer(strategy=\"median\")),\n",
    "        ('attribs_adder', CombinedAttributesAdder()),\n",
    "        ('std_scaler', StandardScaler()),\n",
    "    ])\n",
    "housing_num_tr = num_pipeline.fit_transform(housing_num)\n",
    "housing_num_tr[9]"
   ]
  },
  {
   "cell_type": "code",
   "execution_count": 7,
   "metadata": {},
   "outputs": [
    {
     "data": {
      "text/plain": [
       "(16512,)"
      ]
     },
     "execution_count": 7,
     "metadata": {},
     "output_type": "execute_result"
    }
   ],
   "source": [
    "#第二种 进行onehot编码\n",
    "from sklearn.compose import ColumnTransformer\n",
    "from sklearn.preprocessing import OneHotEncoder\n",
    "\n",
    "num_attribs = list(housing_num)\n",
    "cat_attribs = [\"ocean_proximity\"]\n",
    "\n",
    "full_pipeline = ColumnTransformer([\n",
    "        (\"num\", num_pipeline, num_attribs),\n",
    "        (\"cat\", OneHotEncoder(), cat_attribs),\n",
    "    ])\n",
    "\n",
    "housing_prepared =full_pipeline.fit_transform(housing)\n",
    "housing_prepared.shape\n",
    "housing_labels.shape"
   ]
  },
  {
   "cell_type": "code",
   "execution_count": 8,
   "metadata": {},
   "outputs": [],
   "source": [
    "#将做好的数据集 存储为pickle\n",
    "list_file = open('./datasets/housing_prepared.pickle','wb')\n",
    "pickle.dump(housing_prepared,list_file)\n",
    "list_file.close()\n",
    "\n"
   ]
  },
  {
   "cell_type": "code",
   "execution_count": 9,
   "metadata": {},
   "outputs": [],
   "source": [
    "list_file = open('./datasets/housing_labels.pickle','wb')\n",
    "pickle.dump(housing_labels,list_file)\n",
    "list_file.close()"
   ]
  },
  {
   "cell_type": "code",
   "execution_count": null,
   "metadata": {},
   "outputs": [],
   "source": []
  }
 ],
 "metadata": {
  "kernelspec": {
   "display_name": "Python 3",
   "language": "python",
   "name": "python3"
  },
  "language_info": {
   "codemirror_mode": {
    "name": "ipython",
    "version": 3
   },
   "file_extension": ".py",
   "mimetype": "text/x-python",
   "name": "python",
   "nbconvert_exporter": "python",
   "pygments_lexer": "ipython3",
   "version": "3.7.0"
  }
 },
 "nbformat": 4,
 "nbformat_minor": 2
}
